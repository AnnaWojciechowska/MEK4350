{
 "cells": [
  {
   "cell_type": "code",
   "execution_count": 1,
   "id": "7be7c099-e5e0-450b-841c-d8d574a7152b",
   "metadata": {},
   "outputs": [],
   "source": [
    "from dataset import *\n",
    "import os"
   ]
  },
  {
   "cell_type": "code",
   "execution_count": 2,
   "id": "57df0143-bdb7-480e-a7f2-fd6a0ae8c3da",
   "metadata": {},
   "outputs": [],
   "source": [
    "data_dir = './oblig2_data'\n",
    "data_file_names = ['proberun4_tett.csv', 'BayOfBiscay.mat','New_Year_Wave.txt','case1.wav']\n",
    "dataset_types = [ExperimentDataset, HDF5_Dataset, DaupnerDataset,WaveDataset]"
   ]
  },
  {
   "cell_type": "code",
   "execution_count": 3,
   "id": "839d93c9-303f-4bc0-ae58-26450147490e",
   "metadata": {},
   "outputs": [],
   "source": [
    "datasets = []\n",
    "for i in range(0,4):\n",
    "    filepath_dataset = os.path.join(data_dir, data_file_names[i])\n",
    "    datasets.append(dataset_types[i](filepath_dataset))\n",
    "    #datasets[i].plot_one_sided_spectrum()"
   ]
  },
  {
   "cell_type": "code",
   "execution_count": 8,
   "id": "c022cd9c-e5e4-45cb-9c61-b89a1752d17f",
   "metadata": {},
   "outputs": [
    {
     "data": {
      "text/plain": [
       "(8.144624312279435e-11+1288017.357001062j)"
      ]
     },
     "execution_count": 8,
     "metadata": {},
     "output_type": "execute_result"
    }
   ],
   "source": [
    "dataset = datasets[3]\n",
    "signal = dataset.get_signal_data()\n",
    "\n",
    "signal_hat = np.fft.fft(signal)\n",
    "#spectrum_array = np.square(np.abs(signal_hat))\n",
    "spectrum_array = np.conj(signal_hat)\n",
    "hs = 4 * np.sqrt(spectrum_array.sum())\n",
    "hs\n",
    "#Nyqyist_frequency = dataset.Nyqyist_frequency()\n",
    "#Nyqyist_frequency"
   ]
  },
  {
   "cell_type": "code",
   "execution_count": 4,
   "id": "7d584a90-23d6-4a69-9577-c922cd348d9d",
   "metadata": {},
   "outputs": [
    {
     "data": {
      "text/plain": [
       "606.9882846623358"
      ]
     },
     "execution_count": 4,
     "metadata": {},
     "output_type": "execute_result"
    }
   ],
   "source": [
    "dataset = datasets[0]\n",
    "signal = dataset.get_signal_data()\n",
    "time_data = dataset.get_time_data()\n",
    "sample_rate = dataset.sample_rate\n",
    "\n",
    "signal_hat = np.fft.fft(signal)\n",
    "spectrum_array = np.square(np.abs(signal_hat))\n",
    "frequencies = np.fft.fftfreq(len(signal), 1 / sample_rate)\n",
    "hs = 4 * np.sqrt(spectrum_array.sum())\n",
    "hs\n",
    "#Nyqyist_frequency = dataset.Nyqyist_frequency()\n",
    "#Nyqyist_frequency"
   ]
  },
  {
   "cell_type": "code",
   "execution_count": null,
   "id": "b438225a-d495-4be4-8a92-a53162be3f06",
   "metadata": {},
   "outputs": [],
   "source": [
    "dataset = datasets[0]\n",
    "signal = dataset.get_signal_data()\n",
    "significant = \n"
   ]
  }
 ],
 "metadata": {
  "kernelspec": {
   "display_name": "Python 3 (ipykernel)",
   "language": "python",
   "name": "python3"
  },
  "language_info": {
   "codemirror_mode": {
    "name": "ipython",
    "version": 3
   },
   "file_extension": ".py",
   "mimetype": "text/x-python",
   "name": "python",
   "nbconvert_exporter": "python",
   "pygments_lexer": "ipython3",
   "version": "3.10.12"
  }
 },
 "nbformat": 4,
 "nbformat_minor": 5
}
