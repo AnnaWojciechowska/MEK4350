{
 "cells": [
  {
   "cell_type": "code",
   "execution_count": 1,
   "id": "lucky-phrase",
   "metadata": {},
   "outputs": [
    {
     "data": {
      "text/html": [
       "<style>.container { width:100% !important; }</style>"
      ],
      "text/plain": [
       "<IPython.core.display.HTML object>"
      ]
     },
     "metadata": {},
     "output_type": "display_data"
    }
   ],
   "source": [
    "import os.path\n",
    "import pandas as pd\n",
    "import matplotlib.pyplot as plt\n",
    "import numpy as np\n",
    "\n",
    "np.set_printoptions(suppress=True)\n",
    "from IPython.display import display, HTML\n",
    "display(HTML(\"<style>.container { width:100% !important; }</style>\"))"
   ]
  },
  {
   "cell_type": "code",
   "execution_count": 2,
   "id": "bearing-score",
   "metadata": {},
   "outputs": [
    {
     "data": {
      "text/html": [
       "<div>\n",
       "<style scoped>\n",
       "    .dataframe tbody tr th:only-of-type {\n",
       "        vertical-align: middle;\n",
       "    }\n",
       "\n",
       "    .dataframe tbody tr th {\n",
       "        vertical-align: top;\n",
       "    }\n",
       "\n",
       "    .dataframe thead th {\n",
       "        text-align: right;\n",
       "    }\n",
       "</style>\n",
       "<table border=\"1\" class=\"dataframe\">\n",
       "  <thead>\n",
       "    <tr style=\"text-align: right;\">\n",
       "      <th></th>\n",
       "      <th>date_string</th>\n",
       "      <th>probe_1_raw</th>\n",
       "      <th>probe_2_raw</th>\n",
       "      <th>probe_3_raw</th>\n",
       "      <th>probe_4_raw</th>\n",
       "      <th>sensors</th>\n",
       "      <th>date_time</th>\n",
       "      <th>elapsed_secs</th>\n",
       "      <th>probe_1</th>\n",
       "      <th>probe_2</th>\n",
       "      <th>probe_3</th>\n",
       "      <th>probe_4</th>\n",
       "    </tr>\n",
       "  </thead>\n",
       "  <tbody>\n",
       "    <tr>\n",
       "      <th>0</th>\n",
       "      <td>09/20/2023 08:42:24.832</td>\n",
       "      <td>0.10401</td>\n",
       "      <td>0.10358</td>\n",
       "      <td>0.10444</td>\n",
       "      <td>0.10367</td>\n",
       "      <td>343.87</td>\n",
       "      <td>2023-09-20 08:42:24.832</td>\n",
       "      <td>0.000</td>\n",
       "      <td>-0.000255</td>\n",
       "      <td>-0.000142</td>\n",
       "      <td>-0.000671</td>\n",
       "      <td>0.000152</td>\n",
       "    </tr>\n",
       "    <tr>\n",
       "      <th>1</th>\n",
       "      <td>09/20/2023 08:42:24.836</td>\n",
       "      <td>0.10410</td>\n",
       "      <td>0.10358</td>\n",
       "      <td>0.10444</td>\n",
       "      <td>0.10367</td>\n",
       "      <td>343.87</td>\n",
       "      <td>2023-09-20 08:42:24.836</td>\n",
       "      <td>0.004</td>\n",
       "      <td>-0.000345</td>\n",
       "      <td>-0.000142</td>\n",
       "      <td>-0.000671</td>\n",
       "      <td>0.000152</td>\n",
       "    </tr>\n",
       "  </tbody>\n",
       "</table>\n",
       "</div>"
      ],
      "text/plain": [
       "               date_string  probe_1_raw  probe_2_raw  probe_3_raw  \\\n",
       "0  09/20/2023 08:42:24.832      0.10401      0.10358      0.10444   \n",
       "1  09/20/2023 08:42:24.836      0.10410      0.10358      0.10444   \n",
       "\n",
       "   probe_4_raw  sensors               date_time  elapsed_secs   probe_1  \\\n",
       "0      0.10367   343.87 2023-09-20 08:42:24.832         0.000 -0.000255   \n",
       "1      0.10367   343.87 2023-09-20 08:42:24.836         0.004 -0.000345   \n",
       "\n",
       "    probe_2   probe_3   probe_4  \n",
       "0 -0.000142 -0.000671  0.000152  \n",
       "1 -0.000142 -0.000671  0.000152  "
      ]
     },
     "execution_count": 2,
     "metadata": {},
     "output_type": "execute_result"
    }
   ],
   "source": [
    "file_folder = '/home/anna/annaCode/UiO/MEK4350/notebooks/Data_undervisning200923'\n",
    "date_format = '%m/%d/%Y %H:%M:%S.%f'\n",
    "\n",
    "mean_water_level = np.empty(16)\n",
    "still_level_t0 = np.empty(16)\n",
    "j = 0\n",
    "df_list = []\n",
    "for i in range(1,5):\n",
    "    file_path =  os.path.join(file_folder, f\"proberun{i}_tett.csv\")\n",
    "    df = pd.read_csv(file_path, names = ['date_string', 'probe_1_raw', 'probe_2_raw', 'probe_3_raw', 'probe_4_raw', 'sensors'])\n",
    "    # convert data from string to datatime format\n",
    "    df['date_time'] = pd.to_datetime(df['date_string'], format=date_format)\n",
    "    # calculate elapsed time [in seconds] since  begining of the experiment\n",
    "    df['elapsed_secs'] =  (df['date_time'] - df.at[0, 'date_time']).dt.total_seconds()\n",
    "    #calculate amplitudes; raw columns oryginaly contain vertical distance from utrasound probe, covert it distance from water level \n",
    "    for k in range(1,5):\n",
    "        df[f'probe_{k}'] = df[f'probe_{k}_raw'].mean() - df[f'probe_{k}_raw']\n",
    "        mean_water_level[j] =  df[f'probe_{k}_raw'].mean()\n",
    "        still_level_t0[j] = df.head(120)[f'probe_{k}_raw'].mean()\n",
    "        j += 1\n",
    "  \n",
    "    df_list.append(df)\n",
    "    \n",
    "df = df_list[0]\n",
    "df.head(2)"
   ]
  },
  {
   "cell_type": "code",
   "execution_count": 3,
   "id": "enabling-convertible",
   "metadata": {},
   "outputs": [
    {
     "data": {
      "text/plain": [
       "0.03432"
      ]
     },
     "execution_count": 3,
     "metadata": {},
     "output_type": "execute_result"
    }
   ],
   "source": [
    "#max \"height\" of wave in first experiment (not real height, more difference between heighest crest and lowest trough)\n",
    "ex1_max_height = df[f'probe_1_raw'].max() - df[f'probe_1_raw'].min()\n",
    "ex1_max_height"
   ]
  },
  {
   "cell_type": "code",
   "execution_count": 4,
   "id": "sealed-lawsuit",
   "metadata": {},
   "outputs": [
    {
     "data": {
      "text/plain": [
       "(array([0.10375521, 0.10387313, 0.10388745, 0.10447902]),\n",
       " array([0.10446892, 0.10451408, 0.10455058, 0.1045365 ]),\n",
       " 0.00028202067269695355,\n",
       " 3.093347336310774e-05)"
      ]
     },
     "execution_count": 4,
     "metadata": {},
     "output_type": "execute_result"
    }
   ],
   "source": [
    "#probe 1 - mean water level vs still water level before experiment started\n",
    "probe1_indices = np.arange(0,16,4)\n",
    "mean_water_level[probe1_indices], still_level_t0[probe1_indices], mean_water_level[probe1_indices].std(), still_level_t0[probe1_indices].std()"
   ]
  },
  {
   "cell_type": "code",
   "execution_count": 5,
   "id": "handed-pierre",
   "metadata": {},
   "outputs": [
    {
     "data": {
      "text/plain": [
       "(array([0.10343754, 0.10354402, 0.10353899, 0.10415094]),\n",
       " array([0.10446325, 0.10457375, 0.104593  , 0.10609875]),\n",
       " 0.0002821141408897708,\n",
       " 0.000675332519370075)"
      ]
     },
     "execution_count": 5,
     "metadata": {},
     "output_type": "execute_result"
    }
   ],
   "source": [
    "#probe 2 - mean water level vs still water level before experiment started\n",
    "mean_water_level[probe1_indices + 1],  still_level_t0[probe1_indices +1], mean_water_level[probe1_indices + 1].std(), still_level_t0[probe1_indices +1].std()"
   ]
  },
  {
   "cell_type": "code",
   "execution_count": 6,
   "id": "auburn-drunk",
   "metadata": {},
   "outputs": [
    {
     "data": {
      "text/plain": [
       "(array([0.1037693 , 0.10385982, 0.10387449, 0.10435703]),\n",
       " array([0.10433575, 0.10458475, 0.10458383, 0.106482  ]),\n",
       " 0.0002298079500900661,\n",
       " 0.0008635873761524659)"
      ]
     },
     "execution_count": 6,
     "metadata": {},
     "output_type": "execute_result"
    }
   ],
   "source": [
    "#probe 3 - mean water level vs still water level before experiment started\n",
    "mean_water_level[probe1_indices + 2], still_level_t0[probe1_indices +2], mean_water_level[probe1_indices + 2].std(), still_level_t0[probe1_indices +2].std()"
   ]
  },
  {
   "cell_type": "code",
   "execution_count": 7,
   "id": "occupational-radius",
   "metadata": {},
   "outputs": [
    {
     "data": {
      "text/plain": [
       "(array([0.10382169, 0.10405153, 0.10389703, 0.10404296]),\n",
       " array([0.103859  , 0.10407933, 0.10405933, 0.10411458]),\n",
       " 9.769267762096016e-05,\n",
       " 9.959235271212465e-05)"
      ]
     },
     "execution_count": 7,
     "metadata": {},
     "output_type": "execute_result"
    }
   ],
   "source": [
    "#probe 4 - mean water level vs still water level before experiment started\n",
    "mean_water_level[probe1_indices + 3], still_level_t0[probe1_indices +3], mean_water_level[probe1_indices + 3].std(), still_level_t0[probe1_indices +3].std()"
   ]
  },
  {
   "cell_type": "code",
   "execution_count": 8,
   "id": "challenging-number",
   "metadata": {},
   "outputs": [
    {
     "data": {
      "text/plain": [
       "(0.002124965416073543, 2.7806276390263118e-05)"
      ]
     },
     "execution_count": 8,
     "metadata": {},
     "output_type": "execute_result"
    }
   ],
   "source": [
    "diff = abs(mean_water_level - still_level_t0)\n",
    "\n",
    "diff.max(), diff.min()"
   ]
  },
  {
   "cell_type": "code",
   "execution_count": 9,
   "id": "conventional-forum",
   "metadata": {},
   "outputs": [],
   "source": [
    "max_diff = diff.max()"
   ]
  },
  {
   "cell_type": "code",
   "execution_count": 10,
   "id": "headed-bedroom",
   "metadata": {},
   "outputs": [
    {
     "data": {
      "text/plain": [
       "6.191624172708458"
      ]
     },
     "execution_count": 10,
     "metadata": {},
     "output_type": "execute_result"
    }
   ],
   "source": [
    "percent_error = max_diff/ex1_max_height * 100\n",
    "percent_error"
   ]
  },
  {
   "cell_type": "code",
   "execution_count": 11,
   "id": "intermediate-pattern",
   "metadata": {},
   "outputs": [
    {
     "data": {
      "text/plain": [
       "(0.00027024772080347104, 0.0006732185271534491)"
      ]
     },
     "execution_count": 11,
     "metadata": {},
     "output_type": "execute_result"
    }
   ],
   "source": [
    "mean_water_level.std(), still_level_t0.std()"
   ]
  }
 ],
 "metadata": {
  "kernelspec": {
   "display_name": "Python 3 (ipykernel)",
   "language": "python",
   "name": "python3"
  },
  "language_info": {
   "codemirror_mode": {
    "name": "ipython",
    "version": 3
   },
   "file_extension": ".py",
   "mimetype": "text/x-python",
   "name": "python",
   "nbconvert_exporter": "python",
   "pygments_lexer": "ipython3",
   "version": "3.8.10"
  }
 },
 "nbformat": 4,
 "nbformat_minor": 5
}
