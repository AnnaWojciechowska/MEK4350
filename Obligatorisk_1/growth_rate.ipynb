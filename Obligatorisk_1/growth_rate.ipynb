{
 "cells": [
  {
   "cell_type": "code",
   "execution_count": 1,
   "id": "suited-printing",
   "metadata": {},
   "outputs": [
    {
     "data": {
      "text/html": [
       "<style>.container { width:100% !important; }</style>"
      ],
      "text/plain": [
       "<IPython.core.display.HTML object>"
      ]
     },
     "metadata": {},
     "output_type": "display_data"
    }
   ],
   "source": [
    "import os.path\n",
    "import numpy as np\n",
    "import pandas as pd\n",
    "from scipy.fft import fft\n",
    "\n",
    "import matplotlib.pyplot as plt\n",
    "from matplotlib import cm\n",
    "from matplotlib.animation import FuncAnimation\n",
    "%matplotlib notebook\n",
    "\n",
    "from IPython.display import display, HTML\n",
    "display(HTML(\"<style>.container { width:100% !important; }</style>\"))\n",
    "#display(HTML(f\"<style>.container {{ height: {400}px !important; }}</style>\"))"
   ]
  },
  {
   "cell_type": "code",
   "execution_count": 2,
   "id": "atlantic-floating",
   "metadata": {},
   "outputs": [
    {
     "data": {
      "text/html": [
       "<div>\n",
       "<style scoped>\n",
       "    .dataframe tbody tr th:only-of-type {\n",
       "        vertical-align: middle;\n",
       "    }\n",
       "\n",
       "    .dataframe tbody tr th {\n",
       "        vertical-align: top;\n",
       "    }\n",
       "\n",
       "    .dataframe thead th {\n",
       "        text-align: right;\n",
       "    }\n",
       "</style>\n",
       "<table border=\"1\" class=\"dataframe\">\n",
       "  <thead>\n",
       "    <tr style=\"text-align: right;\">\n",
       "      <th></th>\n",
       "      <th>date_string</th>\n",
       "      <th>probe_1_raw</th>\n",
       "      <th>probe_2_raw</th>\n",
       "      <th>probe_3_raw</th>\n",
       "      <th>probe_4_raw</th>\n",
       "      <th>sensors</th>\n",
       "      <th>date_time</th>\n",
       "      <th>elapsed_secs</th>\n",
       "      <th>probe_1</th>\n",
       "      <th>probe_2</th>\n",
       "      <th>probe_3</th>\n",
       "      <th>probe_4</th>\n",
       "    </tr>\n",
       "  </thead>\n",
       "  <tbody>\n",
       "    <tr>\n",
       "      <th>0</th>\n",
       "      <td>09/20/2023 08:42:24.832</td>\n",
       "      <td>0.10401</td>\n",
       "      <td>0.10358</td>\n",
       "      <td>0.10444</td>\n",
       "      <td>0.10367</td>\n",
       "      <td>343.87</td>\n",
       "      <td>2023-09-20 08:42:24.832</td>\n",
       "      <td>0.000</td>\n",
       "      <td>-0.000255</td>\n",
       "      <td>-0.000142</td>\n",
       "      <td>-0.000671</td>\n",
       "      <td>0.000152</td>\n",
       "    </tr>\n",
       "    <tr>\n",
       "      <th>1</th>\n",
       "      <td>09/20/2023 08:42:24.836</td>\n",
       "      <td>0.10410</td>\n",
       "      <td>0.10358</td>\n",
       "      <td>0.10444</td>\n",
       "      <td>0.10367</td>\n",
       "      <td>343.87</td>\n",
       "      <td>2023-09-20 08:42:24.836</td>\n",
       "      <td>0.004</td>\n",
       "      <td>-0.000345</td>\n",
       "      <td>-0.000142</td>\n",
       "      <td>-0.000671</td>\n",
       "      <td>0.000152</td>\n",
       "    </tr>\n",
       "  </tbody>\n",
       "</table>\n",
       "</div>"
      ],
      "text/plain": [
       "               date_string  probe_1_raw  probe_2_raw  probe_3_raw  \\\n",
       "0  09/20/2023 08:42:24.832      0.10401      0.10358      0.10444   \n",
       "1  09/20/2023 08:42:24.836      0.10410      0.10358      0.10444   \n",
       "\n",
       "   probe_4_raw  sensors               date_time  elapsed_secs   probe_1  \\\n",
       "0      0.10367   343.87 2023-09-20 08:42:24.832         0.000 -0.000255   \n",
       "1      0.10367   343.87 2023-09-20 08:42:24.836         0.004 -0.000345   \n",
       "\n",
       "    probe_2   probe_3   probe_4  \n",
       "0 -0.000142 -0.000671  0.000152  \n",
       "1 -0.000142 -0.000671  0.000152  "
      ]
     },
     "execution_count": 2,
     "metadata": {},
     "output_type": "execute_result"
    }
   ],
   "source": [
    "file_folder = '/home/anna/annaCode/UiO/MEK4350/notebooks/Data_undervisning200923'\n",
    "date_format = '%m/%d/%Y %H:%M:%S.%f'\n",
    "\n",
    "df_list = []\n",
    "for i in range(1,5):\n",
    "    file_path =  os.path.join(file_folder, f\"proberun{i}_tett.csv\")\n",
    "    df = pd.read_csv(file_path, names = ['date_string', 'probe_1_raw', 'probe_2_raw', 'probe_3_raw', 'probe_4_raw', 'sensors'])\n",
    "    df['date_time'] = pd.to_datetime(df['date_string'], format=date_format)\n",
    "    df['elapsed_secs'] =  (df['date_time'] - df.at[0, 'date_time']).dt.total_seconds()\n",
    "    #calculate amplitudes\n",
    "    df['probe_1'] = df['probe_1_raw'].mean() - df['probe_1_raw']\n",
    "    df['probe_2'] = df['probe_2_raw'].mean() - df['probe_2_raw']\n",
    "    df['probe_3'] = df['probe_3_raw'].mean() - df['probe_3_raw']\n",
    "    df['probe_4'] = df['probe_4_raw'].mean() - df['probe_4_raw']\n",
    "\n",
    "    df_list.append(df)\n",
    "    \n",
    "df = df_list[0]\n",
    "df.head(2)"
   ]
  },
  {
   "cell_type": "code",
   "execution_count": 3,
   "id": "developed-abuse",
   "metadata": {},
   "outputs": [],
   "source": [
    "sample_no = df.shape[0]\n",
    "sampling_rate = sample_no/df.elapsed_secs.iloc[-1]"
   ]
  },
  {
   "cell_type": "code",
   "execution_count": 4,
   "id": "prostate-wheat",
   "metadata": {},
   "outputs": [],
   "source": [
    "frequencies_list = []\n",
    "magnitude_list = []\n",
    "growth_list = []\n",
    "\n",
    "for i in range (0,4):\n",
    "    frequencies = np.fft.fftfreq(sample_no, d=1/sampling_rate)\n",
    "    magnitude_spectrum = np.abs(fft(df[f'probe_{i+1}'].to_numpy()))\n",
    "    size_diff = frequencies.shape[0] - magnitude_spectrum.shape[0]\n",
    "    if size_diff > 0:\n",
    "        frequencies = frequencies[:-size_diff]  \n",
    "    frequencies_list.append(frequencies)\n",
    "    magnitude_list.append(magnitude_spectrum)\n",
    "    indices = np.where(magnitude_spectrum > 50)\n",
    "    growth_list.append(magnitude_spectrum[indices][0])"
   ]
  },
  {
   "cell_type": "code",
   "execution_count": 5,
   "id": "anonymous-denial",
   "metadata": {},
   "outputs": [
    {
     "data": {
      "text/plain": [
       "[164.87036326957883, 153.28411430026466, 118.40095643184628, 70.85420859995241]"
      ]
     },
     "execution_count": 5,
     "metadata": {},
     "output_type": "execute_result"
    }
   ],
   "source": [
    "growth_list"
   ]
  },
  {
   "cell_type": "code",
   "execution_count": 6,
   "id": "mineral-rugby",
   "metadata": {},
   "outputs": [
    {
     "data": {
      "text/plain": [
       "-0.07286633234885752"
      ]
     },
     "execution_count": 6,
     "metadata": {},
     "output_type": "execute_result"
    }
   ],
   "source": [
    "np.log(abs(growth_list[1]/growth_list[0]))"
   ]
  },
  {
   "cell_type": "code",
   "execution_count": 7,
   "id": "hungry-string",
   "metadata": {},
   "outputs": [],
   "source": [
    "real_distances = np.array([6.98, 8.155, 12.325, 16.995])\n",
    "growth_rates = []\n",
    "for i in range (0,3):\n",
    "    growth_rate = 1 / (real_distances[i+1] - real_distances[i])*np.log(growth_list[i+1]/growth_list[i])\n",
    "    growth_rates.append(growth_rate)"
   ]
  },
  {
   "cell_type": "code",
   "execution_count": 8,
   "id": "consistent-theta",
   "metadata": {},
   "outputs": [
    {
     "data": {
      "text/plain": [
       "[-0.062013899871368156, -0.06192238733876461, -0.1099469881080432]"
      ]
     },
     "execution_count": 8,
     "metadata": {},
     "output_type": "execute_result"
    }
   ],
   "source": [
    "growth_rates"
   ]
  }
 ],
 "metadata": {
  "kernelspec": {
   "display_name": "Python 3 (ipykernel)",
   "language": "python",
   "name": "python3"
  },
  "language_info": {
   "codemirror_mode": {
    "name": "ipython",
    "version": 3
   },
   "file_extension": ".py",
   "mimetype": "text/x-python",
   "name": "python",
   "nbconvert_exporter": "python",
   "pygments_lexer": "ipython3",
   "version": "3.8.10"
  }
 },
 "nbformat": 4,
 "nbformat_minor": 5
}
